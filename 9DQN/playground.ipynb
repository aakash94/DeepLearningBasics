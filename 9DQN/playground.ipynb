{
 "cells": [
  {
   "cell_type": "code",
   "execution_count": 1,
   "metadata": {},
   "outputs": [],
   "source": [
    "%matplotlib inline\n",
    "\n",
    "import gym\n",
    "import matplotlib.pyplot as plt\n",
    "\n",
    "env = gym.make('CartPole-v0')\n",
    "\n",
    "# set up matplotlib\n",
    "is_ipython = 'inline' in plt.get_backend()\n",
    "if is_ipython:\n",
    "    from IPython import display\n",
    "\n",
    "plt.ion()\n"
   ]
  },
  {
   "cell_type": "code",
   "execution_count": 2,
   "metadata": {},
   "outputs": [
    {
     "name": "stdout",
     "output_type": "stream",
     "text": [
      "\n",
      "\n",
      "env.action_space\n",
      " Discrete(2)\n",
      "action  0\n",
      "action  1\n",
      "action  0\n",
      "action  1\n",
      "action  1\n",
      "action  1\n",
      "action  0\n",
      "action  0\n",
      "action  1\n",
      "action  0\n"
     ]
    }
   ],
   "source": [
    "for i_episode in range(1):\n",
    "    observation = env.reset()\n",
    "    print(\"\\n\\nenv.action_space\\n\", env.action_space)\n",
    "    for t in range(10):\n",
    "        env.render()\n",
    "        #print(\"\\n\\n\\nTimestep :\", t)\n",
    "        action = env.action_space.sample()\n",
    "        print(\"action \",action)\n",
    "        observation, reward, done, info = env.step(action)\n",
    "        # print(\"\\n\\nobservation\\n\", observation)\n",
    "        # print(\"\\n\\nreward\\n\", reward)\n",
    "        # print(\"\\n\\ndone\\n\", done)\n",
    "        # print(\"\\n\\ninfo\\n\", info)\n",
    "        if done:\n",
    "            print(\"Episode finished after {} timesteps\".format(t+1))\n",
    "            break\n",
    "\n",
    "\n",
    "env.close()\n",
    "plt.ioff()\n",
    "plt.show()"
   ]
  },
  {
   "cell_type": "code",
   "execution_count": 4,
   "metadata": {},
   "outputs": [
    {
     "name": "stdout",
     "output_type": "stream",
     "text": [
      "0\n",
      "10\n"
     ]
    }
   ],
   "source": [
    "tr = True\n",
    "fa = False\n",
    "a = 5\n",
    "b = 10\n",
    "\n",
    "c = a*(not tr)\n",
    "d = b*(not fa)\n",
    "\n",
    "print(c)\n",
    "print(d)\n"
   ]
  },
  {
   "cell_type": "code",
   "execution_count": null,
   "metadata": {},
   "outputs": [],
   "source": [
    "env.reset()\n",
    "plt.figure()\n",
    "img = plt.imshow(env.render(mode='rgb_array')) # only call this once\n",
    "for _ in range(100):\n",
    "    img.set_data(env.render(mode='rgb_array')) # just update the data\n",
    "    display.display(plt.gcf())\n",
    "    display.clear_output(wait=True)\n",
    "    action = env.action_space.sample()\n",
    "    observation, reward, done, info = env.step(action)\n",
    "    #print(\"nobservation\\t\", observation)\n",
    "    if done:\n",
    "        env.reset()"
   ]
  }
 ],
 "metadata": {
  "kernelspec": {
   "display_name": "Python 3",
   "language": "python",
   "name": "python3"
  },
  "language_info": {
   "codemirror_mode": {
    "name": "ipython",
    "version": 3
   },
   "file_extension": ".py",
   "mimetype": "text/x-python",
   "name": "python",
   "nbconvert_exporter": "python",
   "pygments_lexer": "ipython3",
   "version": "3.7.1"
  }
 },
 "nbformat": 4,
 "nbformat_minor": 2
}
